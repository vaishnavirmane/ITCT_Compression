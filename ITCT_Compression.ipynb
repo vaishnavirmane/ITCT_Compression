{
  "cells": [
    {
      "attachments": {},
      "cell_type": "markdown",
      "metadata": {
        "id": "4b3Jf-9VOsQ5"
      },
      "source": [
        "# **Name: Vaishnavi Raviraj Mane**\n",
        "# **Roll No: 3167**\n",
        "\n",
        "# **Project Name : Compression Efficiency of Speech Signal**"
      ]
    },
    {
      "cell_type": "markdown",
      "metadata": {
        "id": "gK4F6GNm6j-E"
      },
      "source": [
        "# **Converting Speech To Text**"
      ]
    },
    {
      "cell_type": "code",
      "execution_count": null,
      "metadata": {
        "id": "WI-TwF6qr3fv"
      },
      "outputs": [],
      "source": [
        "#!nvidia-smi"
      ]
    },
    {
      "cell_type": "markdown",
      "metadata": {
        "id": "pqD9sMMS648D"
      },
      "source": [
        "**Installing the Library**"
      ]
    },
    {
      "cell_type": "code",
      "execution_count": null,
      "metadata": {
        "colab": {
          "base_uri": "https://localhost:8080/"
        },
        "id": "DBlfsaf42n_S",
        "outputId": "d0ed68d4-450f-4a7e-f527-affc6b3ebc95"
      },
      "outputs": [
        {
          "name": "stdout",
          "output_type": "stream",
          "text": [
            "\u001b[K     |████████████████████████████████| 5.5 MB 14.7 MB/s \n",
            "\u001b[K     |████████████████████████████████| 7.6 MB 48.3 MB/s \n",
            "\u001b[K     |████████████████████████████████| 182 kB 76.3 MB/s \n",
            "\u001b[?25h  Building wheel for whisper (setup.py) ... \u001b[?25l\u001b[?25hdone\n"
          ]
        }
      ],
      "source": [
        "!pip install git+https://github.com/openai/whisper.git   -q"
      ]
    },
    {
      "cell_type": "code",
      "execution_count": null,
      "metadata": {
        "colab": {
          "base_uri": "https://localhost:8080/"
        },
        "id": "msy8FAri3FsQ",
        "outputId": "416ae69a-2000-48eb-f13f-d87f328485f9"
      },
      "outputs": [
        {
          "name": "stderr",
          "output_type": "stream",
          "text": [
            "100%|█████████████████████████████████████| 1.42G/1.42G [00:26<00:00, 57.2MiB/s]\n"
          ]
        }
      ],
      "source": [
        "#Load the whisper library\n",
        "import whisper\n",
        "\n",
        "model = whisper.load_model(\"medium\") #769M Parameter  \n",
        "#loading the model\n",
        "#the larger the size of the parameters caught the more accurate the results would be"
      ]
    },
    {
      "cell_type": "code",
      "execution_count": null,
      "metadata": {
        "colab": {
          "base_uri": "https://localhost:8080/",
          "height": 75
        },
        "id": "uZUt6GCT40F3",
        "outputId": "8edc4211-6024-4e65-b557-beeb38e458fa"
      },
      "outputs": [
        {
          "data": {
            "text/html": [
              "\n",
              "                <audio  controls=\"controls\" autoplay=\"autoplay\">\n",
              "                    <source src=\"data:audio/mpeg;base64,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\" type=\"audio/mpeg\" />\n",
              "                    Your browser does not support the audio element.\n",
              "                </audio>\n",
              "              "
            ],
            "text/plain": [
              "<IPython.lib.display.Audio object>"
            ]
          },
          "metadata": {},
          "output_type": "display_data"
        }
      ],
      "source": [
        "#Used to play the audio\n",
        "from IPython.display import Audio, display\n",
        "\n",
        "display(Audio('sample5.mp3', autoplay=True))"
      ]
    },
    {
      "cell_type": "code",
      "execution_count": null,
      "metadata": {
        "colab": {
          "base_uri": "https://localhost:8080/"
        },
        "id": "t1y7Sm8T5qqX",
        "outputId": "7d76f976-6b6b-4c3d-8cf0-3a41f0b84a19"
      },
      "outputs": [
        {
          "name": "stdout",
          "output_type": "stream",
          "text": [
            " Open-ended assignment.\n"
          ]
        }
      ],
      "source": [
        "#speech to text transcription\n",
        "result = model.transcribe(\"sample5.mp3\")\n",
        "the_data = result[\"text\"]\n",
        "print(the_data)\n",
        "#print(result[\"text\"])"
      ]
    },
    {
      "cell_type": "markdown",
      "metadata": {
        "id": "RAGhOH1-DMj9"
      },
      "source": [
        "# **Converting Text To Binary**"
      ]
    },
    {
      "cell_type": "code",
      "execution_count": null,
      "metadata": {
        "colab": {
          "base_uri": "https://localhost:8080/"
        },
        "id": "svH3DdQEr4z5",
        "outputId": "d0b9d0fd-94f2-4bed-95a6-2dd3de48dd68"
      },
      "outputs": [
        {
          "name": "stdout",
          "output_type": "stream",
          "text": [
            "0010000001001111011100000110010101101110001011010110010101101110011001000110010101100100001000000110000101110011011100110110100101100111011011100110110101100101011011100111010000101110\n"
          ]
        }
      ],
      "source": [
        "#taking the string in text_str\n",
        "\n",
        "\n",
        "res = ''.join(format(ord(i), '08b') for i in the_data)\n",
        "   \n",
        "print(str(res))"
      ]
    },
    {
      "cell_type": "markdown",
      "metadata": {
        "id": "sK7fcd8wDS6B"
      },
      "source": [
        "# **Huffman Compression**"
      ]
    },
    {
      "cell_type": "markdown",
      "metadata": {
        "id": "JnR93KRWEKX2"
      },
      "source": [
        "\n",
        "\n",
        "> Huffman coding is a lossless method for compressing and encoding text based on the frequency of the characters in the text.\n",
        "\n",
        "\n",
        "\n",
        "\n",
        ">  Huffman code is a special type of optimal prefix code that is generally utilized for lossless data compression.\n",
        "\n",
        "\n",
        "\n",
        "\n",
        "\n"
      ]
    },
    {
      "cell_type": "code",
      "execution_count": null,
      "metadata": {
        "colab": {
          "base_uri": "https://localhost:8080/"
        },
        "id": "RQav-zr9jCmb",
        "outputId": "7f7589f7-c54d-4064-b799-8b8b4469dd5a"
      },
      "outputs": [
        {
          "name": "stdout",
          "output_type": "stream",
          "text": [
            " Open-ended assignment.\n",
            "\n",
            "Frequency:  [('e', 4), ('n', 4), (' ', 2), ('d', 2), ('s', 2), ('O', 1), ('p', 1), ('-', 1), ('a', 1), ('i', 1), ('g', 1), ('m', 1), ('t', 1), ('.', 1)]\n",
            "\n",
            "Probabilities:  [0.17, 0.17, 0.09, 0.09, 0.09, 0.04, 0.04, 0.04, 0.04, 0.04, 0.04, 0.04, 0.04, 0.04]\n",
            " \n",
            "Char | Huffman code \n",
            "----------------------\n",
            " 'e'  |          01\n",
            " 'n'  |          10\n",
            " ' '  |         000\n",
            " 'd'  |         001\n",
            " 's'  |         110\n",
            " 'O'  |      111110\n",
            " 'p'  |      111111\n",
            " '-'  |      111100\n",
            " 'a'  |      111101\n",
            " 'i'  |      111010\n",
            " 'g'  |      111011\n",
            " 'm'  |      111001\n",
            " 't'  |     1110000\n",
            " '.'  |     1110001\n",
            "\n",
            "The entropy of X is:   3.478923387666942\n",
            "\n",
            "Average length of the code:  3.730000\n",
            "\n",
            "Efficiency of the code:  0.932687\n"
          ]
        }
      ],
      "source": [
        "import numpy as np\n",
        "import math\n",
        "import sys\n",
        "global probabilities\n",
        "probabilities = []\n",
        "\n",
        "\n",
        "# Node of a Huffman Tree  \n",
        "class Nodes:  \n",
        "    #initialize self, probability, left and right and set value sto left and right as none as direction is not defined yet\n",
        "    def __init__(self, probability, symbol, left = None, right = None):  \n",
        "        \n",
        "        # probability of the symbol  \n",
        "        self.probability = probability  \n",
        "  \n",
        "        # the symbol  \n",
        "        self.symbol = symbol  \n",
        "  \n",
        "        # the left node  \n",
        "        self.left = left  \n",
        "  \n",
        "        # the right node  \n",
        "        self.right = right  \n",
        "  \n",
        "        # the tree direction (0 or 1)  \n",
        "        self.code = ''  \n",
        "  \n",
        "\n",
        "\"\"\" A supporting function in order to calculate the probabilities of symbols in specified data \"\"\"  \n",
        "def CalculateFrequency(the_data):  \n",
        "    #\n",
        "    the_symbols = dict()  \n",
        "    for item in the_data:  \n",
        "        #if else to check whether the data contains some element or not\n",
        "        if the_symbols.get(item) == None:  \n",
        "            the_symbols[item] = 1  \n",
        "        else:   \n",
        "            the_symbols[item] += 1       \n",
        "    return the_symbols  \n",
        "  \n",
        "\n",
        "\n",
        "\"\"\" A supporting function in order to print the codes of symbols by travelling a Huffman Tree \"\"\"  \n",
        "the_codes = dict()  \n",
        "  \n",
        "def CalculateCodes(node, value = ''):  \n",
        "    # a huffman code for current node  \n",
        "    newValue = value + str(node.code)  \n",
        "  \n",
        "    if(node.left):  \n",
        "        CalculateCodes(node.left, newValue)  \n",
        "    if(node.right):  \n",
        "        CalculateCodes(node.right, newValue)  \n",
        "  \n",
        "    if(not node.left and not node.right):  \n",
        "        the_codes[node.symbol] = newValue  \n",
        "           \n",
        "    return the_codes  \n",
        "    print(the_codes)\n",
        "  \n",
        "\n",
        "\n",
        "\"\"\" A supporting function in order to get the encoded result \"\"\"  \n",
        "def OutputEncoded(the_data, coding):  \n",
        "    encodingOutput = []  \n",
        "    for element in the_data:  \n",
        "        # print(coding[element], end = '')  \n",
        "        encodingOutput.append(coding[element])  \n",
        "          \n",
        "    the_string = ''.join([str(item) for item in encodingOutput])      \n",
        "    return the_string  \n",
        "\n",
        "\n",
        "\n",
        "\n",
        "\"\"\" A supporting function in order to calculate the space difference between compressed and non compressed data\"\"\"      \n",
        "def TotalGain(the_data, coding):  \n",
        "    # total bit space to store the data before compression  \n",
        "    beforeCompression = len(the_data) * 8  \n",
        "    afterCompression = 0  \n",
        "    the_symbols = coding.keys()  \n",
        "    for symbol in the_symbols:  \n",
        "        the_count = the_data.count(symbol)  \n",
        "        # calculating how many bit is required for that symbol in total  \n",
        "        afterCompression += the_count * len(coding[symbol])  \n",
        "    print(\"\\nThe message is sent uncompressed with 8 bit ASCII representation for the characters hence we have length_of_data*8 bits before compression. \")\n",
        "    print(\"\\nSpace usage before compression (in bits): \", beforeCompression)  \n",
        "    print(\"\\nIf we assume the message consists of only the characters then the number of bits for compressed data will be codeword_bits*frequency.\")\n",
        "    print(\"\\nSpace usage after compression (in bits): \",  afterCompression)  \n",
        "  \n",
        "\n",
        "def HuffmanEncoding(the_data):  \n",
        "    symbolWithProbs = CalculateFrequency(the_data)  \n",
        "    the_symbols = symbolWithProbs.keys()  \n",
        "    #the_frequency = symbolWithProbs.values()  \n",
        "    print(\"\\nSymbols: \", the_symbols)  \n",
        "    #print(\"\\nFrequency: \", the_frequency)  \n",
        "      \n",
        "    the_nodes = []  \n",
        "      \n",
        "    # converting symbols and probabilities into huffman tree nodes  \n",
        "    for symbol in the_symbols:  \n",
        "        the_nodes.append(Nodes(symbolWithProbs.get(symbol), symbol))  \n",
        "      \n",
        "    while len(the_nodes) > 1:  \n",
        "        # sorting all the nodes in ascending order based on their probability  \n",
        "        the_nodes = sorted(the_nodes, key = lambda x: x.probability)  \n",
        "        # for node in nodes:    \n",
        "        #      print(node.symbol, node.prob)  \n",
        "      \n",
        "        # picking two smallest nodes  \n",
        "        right = the_nodes[0]  \n",
        "        left = the_nodes[1]  \n",
        "      \n",
        "        left.code = 0  \n",
        "        right.code = 1  \n",
        "      \n",
        "        # combining the 2 smallest nodes to create new node  \n",
        "        newNode = Nodes(left.probability + right.probability, left.symbol + right.symbol, left, right)  \n",
        "      \n",
        "        the_nodes.remove(left)  \n",
        "        the_nodes.remove(right)  \n",
        "        the_nodes.append(newNode)  \n",
        "        \n",
        "    huffmanEncoding = CalculateCodes(the_nodes[0])  \n",
        "    TotalGain(the_data, huffmanEncoding) \n",
        "    encodedOutput = OutputEncoded(the_data,huffmanEncoding)  \n",
        "    return encodedOutput, the_nodes[0]  \n",
        "    \n",
        "\n",
        "\n",
        "class HuffmanCode:\n",
        "    def __init__(self,probability):\n",
        "        self.probability = probability\n",
        "\n",
        "    def position(self, value, index):\n",
        "        for j in range(len(self.probability)):\n",
        "            if(value >= self.probability[j]):\n",
        "                return j\n",
        "        return index-1\n",
        "\n",
        "    def characteristics_huffman_code(self, code):\n",
        "        length_of_code = [len(k) for k in code]\n",
        "\n",
        "        #It is defined as the average number of bits required to represent a character in the string.\n",
        "        mean_length = sum([a*b for a, b in zip(length_of_code, self.probability)])\n",
        " \n",
        "        entropy_of_code = 0\n",
        "        for i in range(len(self.probability)):\n",
        "            entropy_of_code += self.probability[i]*(math.log(self.probability[i], 2))*(-1)\n",
        "        print(\"\\nThe entropy of X is:  \", entropy_of_code)\n",
        "\n",
        "        print(\"\\nAverage length of the code:  %f\" % mean_length)\n",
        "\n",
        "        #Efficiency is a measure of the number of bits wasted. An efficiency of 0.945 means for every 100 bits 5.5 bits are wasted. \n",
        "        #This deals with the concept of entropy. \n",
        "        #Entropy is a quantitative measure for the amount of information a code provides.\n",
        "        # Any repetition results in redundancy thereby reducing the information per unit symbol. \n",
        "        #Thus decreasing efficiency.\n",
        "        print(\"\\nEfficiency of the code:  %f\" % (entropy_of_code/mean_length))\n",
        "\n",
        "    def compute_code(self):\n",
        "        num = len(self.probability)\n",
        "        huffman_code = ['']*num\n",
        "\n",
        "        #for loop for 0 and 1\n",
        "        for i in range(num-2):\n",
        "\n",
        "          #for first symbol assign 1 as the default code\n",
        "          #For the upcoming symbols, check for the previous symbols\n",
        "          #If 1- add 0\n",
        "          #If 11- add 1\n",
        "          #If 10 - add 0\n",
        "          #If 111 - add 1\n",
        "            val = self.probability[num-i-1] + self.probability[num-i-2]\n",
        "            if(huffman_code[num-i-1] != '' and huffman_code[num-i-2] != ''):\n",
        "                huffman_code[-1] = ['1' + symbol for symbol in huffman_code[-1]]\n",
        "                huffman_code[-2] = ['0' + symbol for symbol in huffman_code[-2]]\n",
        "            elif(huffman_code[num-i-1] != ''):\n",
        "                huffman_code[num-i-2] = '0'\n",
        "                huffman_code[-1] = ['1' + symbol for symbol in huffman_code[-1]]\n",
        "            elif(huffman_code[num-i-2] != ''):\n",
        "                huffman_code[num-i-1] = '1'\n",
        "                huffman_code[-2] = ['0' + symbol for symbol in huffman_code[-2]]\n",
        "            else:\n",
        "                huffman_code[num-i-1] = '1'\n",
        "                huffman_code[num-i-2] = '0'\n",
        "\n",
        "            position = self.position(val, i)\n",
        "            probability = self.probability[0:(len(self.probability) - 2)]\n",
        "            probability.insert(position, val)\n",
        "            if(isinstance(huffman_code[num-i-2], list) and isinstance(huffman_code[num-i-1], list)):\n",
        "                complete_code = huffman_code[num-i-1] + huffman_code[num-i-2]\n",
        "            elif(isinstance(huffman_code[num-i-2], list)):\n",
        "                complete_code = huffman_code[num-i-2] + [huffman_code[num-i-1]]\n",
        "            elif(isinstance(huffman_code[num-i-1], list)):\n",
        "                complete_code = huffman_code[num-i-1] + [huffman_code[num-i-2]]\n",
        "            else:\n",
        "                complete_code = [huffman_code[num-i-2], huffman_code[num-i-1]]\n",
        "\n",
        "            huffman_code = huffman_code[0:(len(huffman_code)-2)]\n",
        "            huffman_code.insert(position, complete_code)\n",
        "\n",
        "        huffman_code[0] = ['0' + symbol for symbol in huffman_code[0]]\n",
        "        huffman_code[1] = ['1' + symbol for symbol in huffman_code[1]]\n",
        "\n",
        "        if(len(huffman_code[1]) == 0):\n",
        "            huffman_code[1] = '1'\n",
        "\n",
        "        count = 0\n",
        "        final_code = ['']*num\n",
        "\n",
        "        #for loop for 0 and 1\n",
        "        for i in range(2):\n",
        "            for j in range(len(huffman_code[i])):\n",
        "                final_code[count] = huffman_code[i][j]\n",
        "                count += 1\n",
        "\n",
        "        #Once the Huffman codes are generated, read them in the reverse order to obtain the final_code. \n",
        "        #This is done to generate code as done by the tree traversal.\n",
        "        final_code = sorted(final_code, key=len)\n",
        "        return final_code\n",
        "\n",
        "\n",
        "#compute the frequency of each character\n",
        "freq = {}\n",
        "for c in the_data:\n",
        "    if c in freq:\n",
        "        freq[c] += 1\n",
        "    else:\n",
        "        freq[c] = 1\n",
        "\n",
        "freq = sorted(freq.items(), key=lambda x: x[1], reverse=True)\n",
        "length = len(the_data)\n",
        "\n",
        "#using the frequencies calculate the probability\n",
        "probabilities = [float(\"{:.2f}\".format(frequency[1]/length)) for frequency in freq]\n",
        "#sort the probabilities in decreasing order\n",
        "probabilities = sorted(probabilities, reverse=True)\n",
        "\n",
        "\n",
        "huffmanClassObject = HuffmanCode(probabilities)\n",
        "P = probabilities\n",
        "\n",
        "\n",
        "#calculating huffman code using the algorithm\n",
        "huffman_code = huffmanClassObject.compute_code()\n",
        "\n",
        "print(the_data)  \n",
        "\n",
        "print(\"\\nFrequency: \", freq)\n",
        "print(\"\\nProbabilities: \" ,probabilities)\n",
        "\n",
        "#encoding, the_tree = HuffmanEncoding(the_data)  \n",
        "\n",
        "\n",
        "print(' \\nChar | Huffman code ')\n",
        "print('----------------------')\n",
        "\n",
        "for id,char in enumerate(freq):\n",
        "    if huffman_code[id]=='':\n",
        "        print(' %-4r |%12s' % (char[0], 1))\n",
        "        continue\n",
        "    print(' %-4r |%12s' % (char[0], huffman_code[id]))\n",
        "\n",
        "\n",
        "#print(\"\\nEncoded output: \", encoding)  \n",
        "#print(\"\\nDecoded Output: \", HuffmanDecoding(encoding, the_tree), \"\\n\")  \n",
        "\n",
        "#This function generates the mean length of the codes, entropy, variance, and efficiency.\n",
        "huffmanClassObject.characteristics_huffman_code(huffman_code)\n"
      ]
    }
  ],
  "metadata": {
    "accelerator": "GPU",
    "colab": {
      "provenance": []
    },
    "gpuClass": "standard",
    "kernelspec": {
      "display_name": "Python 3",
      "name": "python3"
    },
    "language_info": {
      "name": "python"
    }
  },
  "nbformat": 4,
  "nbformat_minor": 0
}
